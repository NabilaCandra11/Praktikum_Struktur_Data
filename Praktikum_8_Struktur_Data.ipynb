{
  "nbformat": 4,
  "nbformat_minor": 0,
  "metadata": {
    "colab": {
      "provenance": [],
      "authorship_tag": "ABX9TyNvvLH9gYuyJ/B8T344/ej/",
      "include_colab_link": true
    },
    "kernelspec": {
      "name": "python3",
      "display_name": "Python 3"
    },
    "language_info": {
      "name": "python"
    }
  },
  "cells": [
    {
      "cell_type": "markdown",
      "metadata": {
        "id": "view-in-github",
        "colab_type": "text"
      },
      "source": [
        "<a href=\"https://colab.research.google.com/github/NabilaCandra11/Praktikum_Struktur_Data/blob/main/Praktikum_8_Struktur_Data.ipynb\" target=\"_parent\"><img src=\"https://colab.research.google.com/assets/colab-badge.svg\" alt=\"Open In Colab\"/></a>"
      ]
    },
    {
      "cell_type": "code",
      "execution_count": 4,
      "metadata": {
        "id": "Pt-XJkg7YlZZ"
      },
      "outputs": [],
      "source": [
        "import graphlib\n",
        "import matplotlib.pyplot as plt\n",
        "# Membuat class untuk graph visualization\n",
        "class Graph:\n",
        "    def __init__(self):\n",
        "        self.edges = {}\n",
        "\n",
        "    def add_edge(self, source, destination, weight):\n",
        "        # Tambahkan edge ke dalam graph\n",
        "        if source not in self.edges:\n",
        "            self.edges[source] = []\n",
        "        self.edges[source].append((destination, weight))\n",
        "\n",
        "    def shortest_path(self, source, destination):\n",
        "        distances = {}\n",
        "        visited = set()\n",
        "\n",
        "        # Inisialisasi jarak dari source ke setiap node dengan nilai tak terhingga\n",
        "        for node in self.edges:\n",
        "            distances[node] = float('inf')\n",
        "\n",
        "        # Jarak dari source ke source adalah 0\n",
        "        distances[source] = 0\n",
        "        # Priority queue untuk menyimpan node yang akan dieksplorasi\n",
        "        queue = [(0, source)]\n",
        "\n",
        "\n",
        "        while queue:\n",
        "            distance, node = Graph.heappop(queue)\n",
        "\n",
        "            # Jika node sudah merupakan tujuan, kembalikan jarak ke tujuan\n",
        "            if node == destination:\n",
        "                return distances[destination]\n",
        "\n",
        "            # Jika node sudah dikunjungi, lanjut ke iterasi berikutnya\n",
        "            if node in visited:\n",
        "                continue\n",
        "\n",
        "            visited.add(node)\n",
        "\n",
        "            # Iterasi melalui tetangga-tetangga node\n",
        "            for neighbor, weight in self.edges[node]:\n",
        "                if neighbor not in visited:\n",
        "                    new_distance = distance + weight\n",
        "                    # Update jarak terpendek jika ditemukan jarak yang lebih pendek\n",
        "                    if new_distance < distances[neighbor]:\n",
        "                        distances[neighbor] = new_distance\n",
        "                        graphlib.heappush(queue, (new_distance, neighbor))\n",
        "\n",
        "        return distances[destination]\n",
        "\n",
        "    def draw(self):\n",
        "        # Visualisasi graph menggunakan matplotlib\n",
        "        fig, ax = plt.subplots()\n",
        "\n",
        "        for node in self.edges:\n",
        "            for neighbor, weight in self.edges[node]:\n",
        "                ax.plot([node, neighbor], [0, 0], linewidth=weight)\n",
        "                ax.text((node + neighbor) / 2, 0, str(weight), ha='center', va='center')\n",
        "\n",
        "        ax.set_title('Shortest Path Graph')\n",
        "        plt.show()"
      ]
    },
    {
      "cell_type": "code",
      "source": [
        "graph = Graph()\n",
        "\n",
        "graph.add_edge(0, 1, 4);\n",
        "graph.add_edge(0, 7, 8);\n",
        "graph.add_edge(1, 2, 8);\n",
        "graph.add_edge(1, 7, 11);\n",
        "graph.add_edge(2, 3, 7);\n",
        "graph.add_edge(2, 8, 2);\n",
        "graph.add_edge(2, 5, 4);\n",
        "graph.add_edge(3, 4, 9);\n",
        "graph.add_edge(3, 5, 14);\n",
        "graph.add_edge(4, 5, 10);\n",
        "graph.add_edge(5, 6, 2);\n",
        "graph.add_edge(6, 8, 6);\n",
        "graph.add_edge(7, 8, 7);\n",
        "\n",
        "graph.draw()"
      ],
      "metadata": {
        "colab": {
          "base_uri": "https://localhost:8080/",
          "height": 452
        },
        "id": "LcMA2n7KZlka",
        "outputId": "15ea0506-9343-413d-c4ab-34e399f8e9ab"
      },
      "execution_count": 13,
      "outputs": [
        {
          "output_type": "display_data",
          "data": {
            "text/plain": [
              "<Figure size 640x480 with 1 Axes>"
            ],
            "image/png": "[encoded data removed]"
          },
          "metadata": {}
        }
      ]
    }
  ]
}