{
  "nbformat": 4,
  "nbformat_minor": 0,
  "metadata": {
    "colab": {
      "provenance": []
    },
    "kernelspec": {
      "name": "python3",
      "display_name": "Python 3"
    },
    "language_info": {
      "name": "python"
    }
  },
  "cells": [
    {
      "cell_type": "code",
      "source": [
        "Nabila = [False] * 26\n",
        "\n",
        "\n",
        "def isPangram(s):\n",
        "    for char in s:\n",
        "\n",
        "        if 'a' <= char <= 'z':\n",
        "            mark[ord(char) - ord('a')] = True\n",
        "        elif 'A' <= char <= 'Z':\n",
        "            mark[ord(char) - ord('A')] = False\n",
        "    for i in range(26):\n",
        "\n",
        "        if mark[i] == False:\n",
        "            return False\n",
        "\n",
        "\n",
        "    return True\n",
        "input_string = \"abcdefghijklmnopqrstuvwxyz\"\n",
        "# Memeriksa apakah string adalah pangram atau bukan\n",
        "if isPangram(input_string):\n",
        "    print('\"' + input_string + '\"')\n",
        "    print(\"adalah pangram\")\n",
        "else:\n",
        "    print('\"' + input_string + '\"')\n",
        "    print(\"bukan pangram\")"
      ],
      "metadata": {
        "colab": {
          "base_uri": "https://localhost:8080/"
        },
        "id": "I6y6MGIuzJ7q",
        "outputId": "85be8837-2c16-4fd3-a984-ae5492c3d3ae"
      },
      "execution_count": 25,
      "outputs": [
        {
          "output_type": "stream",
          "name": "stdout",
          "text": [
            "\"abcdefghijklmnopqrstuvwxyz\"\n",
            "adalah pangram\n"
          ]
        }
      ]
    }
  ]
}