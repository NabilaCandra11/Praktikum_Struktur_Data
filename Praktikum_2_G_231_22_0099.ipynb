{
  "nbformat": 4,
  "nbformat_minor": 0,
  "metadata": {
    "colab": {
      "provenance": []
    },
    "kernelspec": {
      "name": "python3",
      "display_name": "Python 3"
    },
    "language_info": {
      "name": "python"
    }
  },
  "cells": [
    {
      "cell_type": "markdown",
      "source": [
        "**Algoritma**"
      ],
      "metadata": {
        "id": "SRc_rXqqY44G"
      }
    },
    {
      "cell_type": "code",
      "execution_count": 8,
      "metadata": {
        "id": "VO0s3LHVXzPS"
      },
      "outputs": [],
      "source": [
        "def selectionSort(alist):\n",
        "  for slot in range(0,len(alist)-1):\n",
        "    position=slot\n",
        "    for location in range(slot+1,len(alist)):\n",
        "      if alist[location]<alist[position]:\n",
        "        position = location"
      ]
    },
    {
      "cell_type": "markdown",
      "source": [
        "**Kode Program**"
      ],
      "metadata": {
        "id": "fL8cNgWNZlhP"
      }
    },
    {
      "cell_type": "code",
      "source": [
        "def selectionSort(data):\n",
        "  for slot in range(0,len(data)-1):\n",
        "    position = slot\n",
        "    for location in range(slot+1,len(data)):\n",
        "      if data[location]<data[position]:\n",
        "        position = location\n",
        "\n",
        "    temp = data[slot]\n",
        "    data[slot] = data[position]\n",
        "    data[position] = temp\n",
        "    print(data)\n",
        "angka = [5,8,2,7,3]\n",
        "print(angka)\n",
        "selectionSort(angka)\n"
      ],
      "metadata": {
        "colab": {
          "base_uri": "https://localhost:8080/"
        },
        "id": "ntiR33DqWVw_",
        "outputId": "08af29d5-d913-48e3-909c-80d1516402d1"
      },
      "execution_count": 10,
      "outputs": [
        {
          "output_type": "stream",
          "name": "stdout",
          "text": [
            "[5, 8, 2, 7, 3]\n",
            "[2, 8, 5, 7, 3]\n",
            "[2, 3, 5, 7, 8]\n",
            "[2, 3, 5, 7, 8]\n",
            "[2, 3, 5, 7, 8]\n"
          ]
        }
      ]
    }
  ]
}