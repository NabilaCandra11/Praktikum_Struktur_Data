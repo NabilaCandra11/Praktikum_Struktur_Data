{
  "nbformat": 4,
  "nbformat_minor": 0,
  "metadata": {
    "colab": {
      "provenance": []
    },
    "kernelspec": {
      "name": "python3",
      "display_name": "Python 3"
    },
    "language_info": {
      "name": "python"
    }
  },
  "cells": [
    {
      "cell_type": "markdown",
      "source": [
        "BubbleSort"
      ],
      "metadata": {
        "id": "VyWMK88pw3Ig"
      }
    },
    {
      "cell_type": "code",
      "execution_count": 15,
      "metadata": {
        "colab": {
          "base_uri": "https://localhost:8080/"
        },
        "id": "eo-nk5e5q2XQ",
        "outputId": "5fe01ed6-cf94-4e8e-cd77-b9513b0c2d40"
      },
      "outputs": [
        {
          "output_type": "stream",
          "name": "stdout",
          "text": [
            "Array yang terurut:\n",
            "11 22 34 35 45 78 90 "
          ]
        }
      ],
      "source": [
        "def bubbleSort(array):\n",
        "    length = len(array)  # Mendapatkan panjang array\n",
        "    exchange_occurred = False  # Inisialisasi variabel untuk menandai apakah pertukaran (swap) terjadi\n",
        "\n",
        "    for i in range(length - 1):  # Iterasi melalui array\n",
        "        for j in range(0, length - i - 1):  # Iterasi melalui elemen yang belum terurut\n",
        "            if array[j] > array[j + 1]:  # Cek apakah pertukaran diperlukan\n",
        "                exchange_occurred = True  # Menandai bahwa pertukaran terjadi\n",
        "                array[j], array[j + 1] = array[j + 1], array[j]  # Lakukan pertukaran\n",
        "\n",
        "        if not exchange_occurred:\n",
        "            break  # Jika tidak ada pertukaran, array sudah terurut, keluar dari loop\n",
        "\n",
        "# Kode pengujian di bawah ini\n",
        "arr = [45, 35, 78, 22, 34, 11, 90]\n",
        "\n",
        "bubbleSort(arr)  # Panggil fungsi pengurutan menggunakan metode bubble sort\n",
        "\n",
        "print(\"Array yang terurut:\")\n",
        "for i in range(len(arr)):\n",
        "    print(\"%d\" % arr[i], end=\" \")  # Cetak elemen-elemen array yang sudah terurut\n"
      ]
    },
    {
      "cell_type": "markdown",
      "source": [
        "Selection sort"
      ],
      "metadata": {
        "id": "JdnUEZt6w5AG"
      }
    },
    {
      "cell_type": "code",
      "source": [
        "def selection_Sort(data):\n",
        "\n",
        "    # Looping data dan cari elemen minimum di setiap iterasi\n",
        "    for indeks in range(len(data)): # Mengulangi indeks dari 0 sampai panjang data minus 1\n",
        "        min_indeks = indeks # Mengasumsikan elemen pada indeks saat ini adalah minimum\n",
        "        for k in range(indeks+1, len(data)): # Mengulangi k dari indeks berikutnya sampai panjang data minus 1\n",
        "            if data[min_indeks] > data[k]: # Membandingkan elemen minimum dengan elemen pada k\n",
        "                min_indeks = k # Menyimpan indeks elemen minimum baru\n",
        "\n",
        "        # Tukar elemen minimum dengan elemen saat ini\n",
        "        data[indeks], data[min_indeks] = data[min_indeks], data[indeks] # Menukar elemen yang tidak berurutan\n",
        "\n",
        "    # Kembalikan data yang terurut\n",
        "    return data # Mengembalikan data yang sudah terurut\n",
        "\n",
        "# Kode untuk menguji di atas\n",
        "data = [10, 24, 8, 15, 22] # Membuat data acak\n",
        "data_terurut = selection_Sort(data) # Memanggil fungsi selection_Sort dan menyimpan hasilnya dalam variabel data_terurut\n",
        "print(\"Data yang terurut adalah:\", data_terurut) # Mencetak data yang terurut"
      ],
      "metadata": {
        "colab": {
          "base_uri": "https://localhost:8080/"
        },
        "id": "xAhVczatwxg5",
        "outputId": "09dd09e6-7478-4899-9cd3-9c33822881d9"
      },
      "execution_count": 14,
      "outputs": [
        {
          "output_type": "stream",
          "name": "stdout",
          "text": [
            "Data yang terurut adalah: [8, 10, 15, 22, 24]\n"
          ]
        }
      ]
    },
    {
      "cell_type": "markdown",
      "source": [
        "InsertionSort"
      ],
      "metadata": {
        "id": "WuRf0OTqw_qM"
      }
    },
    {
      "cell_type": "code",
      "source": [
        "def insertionSort(data):\n",
        "\n",
        "    # Looping data dan sisipkan setiap elemen di posisi yang benar\n",
        "    for indeks in range(1, len(data)): # Mengulangi indeks dari 1 sampai panjang data minus 1\n",
        "        kunci = data[indeks] # Menyimpan elemen pada indeks saat ini sebagai kunci\n",
        "        k = indeks-1 # Menyimpan indeks sebelumnya sebagai k\n",
        "\n",
        "        # Geser elemen yang lebih besar dari kunci ke kanan\n",
        "        while k >= 0 and kunci < data[k]: # Mengulangi selama k tidak negatif dan kunci lebih kecil dari elemen pada k\n",
        "            data[k + 1] = data[k] # Menyalin elemen pada k ke posisi berikutnya\n",
        "            k -= 1 # Mengurangi k dengan satu\n",
        "\n",
        "        # Sisipkan kunci di posisi yang benar\n",
        "        data[k + 1] = kunci # Menempatkan kunci di posisi yang kosong\n",
        "\n",
        "    # Kembalikan data yang terurut\n",
        "    return data # Mengembalikan data yang sudah terurut\n",
        "\n",
        "# Kode untuk menguji di atas\n",
        "data = [10, 24, 8, 15, 22] # Membuat data acak\n",
        "data_terurut = insertionSort(data) # Memanggil fungsi insertionSort dan menyimpan hasilnya dalam variabel data_terurut\n",
        "print(\"Data yang terurut adalah:\", data_terurut) # Mencetak data yang terurut\n",
        ""
      ],
      "metadata": {
        "colab": {
          "base_uri": "https://localhost:8080/"
        },
        "id": "tQPBJcRPw-yj",
        "outputId": "60effd00-7fea-4e9f-d010-6c20fe6b7d31"
      },
      "execution_count": 13,
      "outputs": [
        {
          "output_type": "stream",
          "name": "stdout",
          "text": [
            "Data yang terurut adalah: [8, 10, 15, 22, 24]\n"
          ]
        }
      ]
    }
  ]
}