{
  "nbformat": 4,
  "nbformat_minor": 0,
  "metadata": {
    "colab": {
      "provenance": []
    },
    "kernelspec": {
      "name": "python3",
      "display_name": "Python 3"
    },
    "language_info": {
      "name": "python"
    }
  },
  "cells": [
    {
      "cell_type": "code",
      "execution_count": 4,
      "metadata": {
        "colab": {
          "base_uri": "https://localhost:8080/"
        },
        "id": "ZNGgDzj2AiXm",
        "outputId": "02f19248-e6ae-45a8-bf8a-05428220d6ed"
      },
      "outputs": [
        {
          "output_type": "stream",
          "name": "stdout",
          "text": [
            "geeksforgeeks\n"
          ]
        }
      ],
      "source": [
        "char_list = ['g', 'e', 'e', 'k', 's', 'f', 'o', 'r', 'g', 'e', 'e', 'k', 's']\n",
        "\n",
        "result = ''.join(char_list)\n",
        "\n",
        "print(result)"
      ]
    },
    {
      "cell_type": "code",
      "source": [
        "def convert (s):\n",
        "  new = \"\"\n",
        "  for x in s:\n",
        "    new += x\n",
        "    return new\n",
        "\n",
        "# driver code\n",
        "s = ['g', 'e', 'e', 'k', 's', 'f', 'o', 'r',\n",
        "     'g', 'e', 'e', 'k', 's']\n",
        "\n",
        "print(convert(s))\n"
      ],
      "metadata": {
        "colab": {
          "base_uri": "https://localhost:8080/"
        },
        "id": "40Af9_ykHLWi",
        "outputId": "d0b91291-24fa-4a42-997f-ef6d916af73e"
      },
      "execution_count": 5,
      "outputs": [
        {
          "output_type": "stream",
          "name": "stdout",
          "text": [
            "g\n"
          ]
        }
      ]
    },
    {
      "cell_type": "markdown",
      "source": [
        "**TUGAS**"
      ],
      "metadata": {
        "id": "wJo683FYHPwy"
      }
    },
    {
      "cell_type": "code",
      "source": [
        "#Masukkan variabel def\n",
        "def programming (c):\n",
        "#Metode ini menggunakan string\n",
        "  str = \"\"\n",
        "#Menggabungkan semua karakter membentuk string\n",
        "  return (str.join(c))\n",
        "# Masukkan daftar karakter (driver code)\n",
        "c = ['p', 'r', 'o', 'g', 'r', 'a', 'm', 'm',\n",
        "     'i', 'n', 'g']\n",
        "#Cetak hasil\n",
        "print(programming(c))\n",
        "\n"
      ],
      "metadata": {
        "id": "zamVcrF1HRiK",
        "outputId": "916b9789-64af-4257-a0b6-87c2379ad5ff",
        "colab": {
          "base_uri": "https://localhost:8080/"
        }
      },
      "execution_count": 6,
      "outputs": [
        {
          "output_type": "stream",
          "name": "stdout",
          "text": [
            "programming\n"
          ]
        }
      ]
    }
  ]
}